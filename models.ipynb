{
 "cells": [
  {
   "cell_type": "code",
   "execution_count": null,
   "metadata": {},
   "outputs": [],
   "source": [
    "import scattering_transform\n",
    "from scattering_transform import SCLTrainingWrapper\n",
    "import utils\n",
    "import torch\n",
    "\n",
    "\n",
    "kwargs={\n",
    "    \"image_size\":160,                            # size of image\n",
    "    \"set_size\": 9,                               # number of questions + 1 answer\n",
    "    \"conv_channels\": [1, 16, 16, 32, 32, 32],    # convolutional channel progression, 1 for greyscale, 3 for rgb\n",
    "    \"conv_output_dim\": 80,                       # model dimension, the output dimension of the vision net\n",
    "    \"attr_heads\": 10,                            # number of attribute heads\n",
    "    \"attr_net_hidden_dims\": [128],               # attribute scatter transform MLP hidden dimension(s)\n",
    "    \"rel_heads\": 80,                             # number of relationship heads\n",
    "    \"rel_net_hidden_dims\": [64, 23, 5] \n",
    "}\n",
    "\n",
    "SCL_model=scattering_transform.SCL(**kwargs)\n",
    "\n",
    "\n",
    "input=torch.rand(9,3,3,1,160,160)\n",
    "SCL_model(input)"
   ]
  }
 ],
 "metadata": {
  "kernelspec": {
   "display_name": "Python 3.10.6 ('DLenv')",
   "language": "python",
   "name": "python3"
  },
  "language_info": {
   "name": "python",
   "version": "3.10.6"
  },
  "orig_nbformat": 4,
  "vscode": {
   "interpreter": {
    "hash": "09911b70b107ce1f1a26d3d965c92acabc3f780c628bdef8c12485070fed524b"
   }
  }
 },
 "nbformat": 4,
 "nbformat_minor": 2
}
