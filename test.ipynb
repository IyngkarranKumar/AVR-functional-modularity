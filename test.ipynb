{
 "cells": [
  {
   "cell_type": "code",
   "execution_count": null,
   "metadata": {},
   "outputs": [],
   "source": [
    "#imports\n",
    "import numpy as np\n",
    "import matplotlib.pyplot as plt\n",
    "import os\n",
    "import torch\n",
    "import argparse\n",
    "import importlib\n",
    "import sys;sys.argv=[''] #passes no cmd line arguments\n",
    "sys.path.append(os.path.join(os.getcwd(),'RAVEN/src/model'))\n",
    "sys.path.append(os.path.join(os.getcwd(),'RAVEN/src/model/utility/'))\n",
    "\n",
    "from glob import glob\n",
    "from torch.utils.data import Dataset, DataLoader\n",
    "from torchvision import transforms, utils"
   ]
  },
  {
   "cell_type": "code",
   "execution_count": null,
   "metadata": {},
   "outputs": [],
   "source": [
    "#load img\n",
    "#to load whole dataset will need to write a torch Dataset class\n",
    "\n",
    "import data; importlib.reload(data)\n",
    "batch_size=8\n",
    "\n",
    "datamodule=data.IRAVENDataModule(batch_size=batch_size)\n",
    "datamodule.setup()\n",
    "train_dataloader,val_dataloader,test_dataloader=datamodule.train_dataloader(),datamodule.val_dataloader(),datamodule.test_dataloader()\n",
    "\n",
    "image,target,meta_target,meta_structure=next(iter(train_dataloader))\n"
   ]
  },
  {
   "cell_type": "code",
   "execution_count": null,
   "metadata": {},
   "outputs": [],
   "source": [
    "def scl_input_transform(input):\n",
    "\n",
    "    '''\n",
    "    Take RAVEN standard input tensor (N,16,img_size,img_size) and return \n",
    "    input reshaped for SCL ((N,8,c,img_size,img_size),(N,8,c,img_size,img_size))\n",
    "    '''\n",
    "\n",
    "    raise NotImplementedError\n",
    "\n",
    "    return scl_input_transform\n"
   ]
  },
  {
   "cell_type": "code",
   "execution_count": null,
   "metadata": {},
   "outputs": [],
   "source": [
    "#CNN model\n",
    "import models.cnn_mlp as cnn_mlp\n",
    "importlib.reload(cnn_mlp)\n",
    "\n",
    "model=cnn_mlp.CNN_MLP()\n",
    "out=model(image)"
   ]
  },
  {
   "cell_type": "code",
   "execution_count": null,
   "metadata": {},
   "outputs": [],
   "source": [
    "from models import scl\n",
    "\n",
    "\n",
    "SCL=scl.SCL_model\n",
    "questions,answers=scl_input_transform(image)\n",
    "logits=SCL(questions,answers)"
   ]
  }
 ],
 "metadata": {
  "kernelspec": {
   "display_name": "Python 3.10.6 ('DLenv')",
   "language": "python",
   "name": "python3"
  },
  "language_info": {
   "name": "python",
   "version": "3.10.6"
  },
  "orig_nbformat": 4,
  "vscode": {
   "interpreter": {
    "hash": "09911b70b107ce1f1a26d3d965c92acabc3f780c628bdef8c12485070fed524b"
   }
  }
 },
 "nbformat": 4,
 "nbformat_minor": 2
}
