{
 "cells": [
  {
   "cell_type": "code",
   "execution_count": null,
   "metadata": {},
   "outputs": [],
   "source": [
    "#imports\n",
    "import numpy as np\n",
    "import matplotlib.pyplot as plt\n",
    "import os\n",
    "import torch\n",
    "import argparse\n",
    "import importlib\n",
    "import data\n",
    "\n",
    "from glob import glob\n",
    "from torch.utils.data import Dataset, DataLoader\n",
    "from torchvision import transforms, utils\n",
    "\n",
    "importlib.reload(data)"
   ]
  },
  {
   "cell_type": "code",
   "execution_count": null,
   "metadata": {},
   "outputs": [],
   "source": [
    "#load img\n",
    "#to load whole dataset will need to write a torch Dataset class\n",
    "\n",
    "import data; importlib.reload(data)\n",
    "batch_size=8\n",
    "\n",
    "datamodule=data.IRAVENDataModule(batch_size=batch_size)\n",
    "datamodule.setup()\n",
    "train_dataloader,val_dataloader,test_dataloader=datamodule.train_dataloader(),datamodule.val_dataloader(),datamodule.test_dataloader()\n",
    "\n",
    "print(train_dataloader.dataset.__len__(),test_dataloader.dataset.__len__(),val_dataloader.dataset.__len__())\n",
    "\n",
    "datamodule=data.IRAVENDataModule(batch_size=batch_size,split=(90,10,0))\n",
    "datamodule.setup()\n",
    "train_dataloader,val_dataloader,test_dataloader=datamodule.train_dataloader(),datamodule.val_dataloader(),datamodule.test_dataloader()\n",
    "\n",
    "print(train_dataloader.dataset.__len__(),test_dataloader.dataset.__len__(),val_dataloader.dataset.__len__())\n"
   ]
  },
  {
   "cell_type": "code",
   "execution_count": null,
   "metadata": {},
   "outputs": [],
   "source": [
    "import collections\n",
    "\n",
    "train_dataset_fnames=train_dataloader.dataset.filenames\n",
    "test_dataset_fnames=test_dataloader.dataset.filenames\n",
    "\n",
    "\n",
    "def get_type_strs(structure):\n",
    "    types=structure[3]\n",
    "    types_str=eval(str(types)[1:])\n",
    "    return types_str\n",
    "\n",
    "types_str_dataset=[]\n",
    "for file in test_dataset_fnames:\n",
    "    structure=np.load(file)['structure']\n",
    "    types_str_dataset.append(get_type_strs(structure))\n",
    "    \n",
    "\n",
    "\n",
    "\n",
    "\n",
    "\n",
    "\n",
    "    frequency=collections.Counter(types_str_dataset)\n"
   ]
  }
 ],
 "metadata": {
  "kernelspec": {
   "display_name": "Python 3.10.6 ('DLenv')",
   "language": "python",
   "name": "python3"
  },
  "language_info": {
   "name": "python",
   "version": "3.10.6"
  },
  "orig_nbformat": 4,
  "vscode": {
   "interpreter": {
    "hash": "09911b70b107ce1f1a26d3d965c92acabc3f780c628bdef8c12485070fed524b"
   }
  }
 },
 "nbformat": 4,
 "nbformat_minor": 2
}
