{
 "cells": [
  {
   "cell_type": "code",
   "execution_count": null,
   "metadata": {},
   "outputs": [],
   "source": [
    "#imports\n",
    "import numpy as np\n",
    "import matplotlib.pyplot as plt\n",
    "import os\n",
    "import torch\n",
    "import argparse\n",
    "import importlib\n",
    "import sys;sys.argv=[''] #passes no cmd line arguments\n",
    "sys.path.append(os.path.join(os.getcwd(),'RAVEN/src/model'))\n",
    "sys.path.append(os.path.join(os.getcwd(),'RAVEN/src/model/utility/'))\n",
    "\n",
    "from glob import glob\n",
    "from torch.utils.data import Dataset, DataLoader\n",
    "from torchvision import transforms, utils\n",
    "#setup argparser\n",
    "if 1:\n",
    "    parser=argparse.ArgumentParser()\n",
    "    parser.add_argument('--model', type=str, default='Resnet18_MLP')\n",
    "    parser.add_argument('--epochs', type=int, default=200)\n",
    "    parser.add_argument('--batch_size', type=int, default=32)\n",
    "    parser.add_argument('--seed', type=int, default=12345)\n",
    "    parser.add_argument('--device', type=int, default=0)\n",
    "    parser.add_argument('--load_workers', type=int, default=16)\n",
    "    parser.add_argument('--resume', type=bool, default=False)\n",
    "    parser.add_argument('--path', type=str, default='/Users/iyngkarrankumar/Documents/AI/AVR-functional-modularity/datasets/RAVEN-10000')\n",
    "    parser.add_argument('--save', type=str, default='./experiments/checkpoint/')\n",
    "    parser.add_argument('--img_size', type=int, default=224)\n",
    "    parser.add_argument('--lr', type=float, default=1e-4)\n",
    "    parser.add_argument('--beta1', type=float, default=0.9)\n",
    "    parser.add_argument('--beta2', type=float, default=0.999)\n",
    "    parser.add_argument('--epsilon', type=float, default=1e-8)\n",
    "    parser.add_argument('--meta_alpha', type=float, default=0.0)\n",
    "    parser.add_argument('--meta_beta', type=float, default=0.0)\n",
    "\n",
    "args=parser.parse_args()"
   ]
  },
  {
   "cell_type": "code",
   "execution_count": null,
   "metadata": {},
   "outputs": [],
   "source": [
    "#load img\n",
    "#to load whole dataset will need to write a torch Dataset class\n",
    "\n",
    "import data; importlib.reload(data)\n",
    "batch_size=8\n",
    "\n",
    "datamodule=data.IRAVENDataModule(batch_size=batch_size)\n",
    "datamodule.setup()\n",
    "train_dataloader,val_dataloader,test_dataloader=datamodule.train_dataloader(),datamodule.val_dataloader(),datamodule.test_dataloader()\n",
    "\n",
    "image,target,meta_target,meta_structure=next(iter(train_dataloader))\n"
   ]
  },
  {
   "cell_type": "code",
   "execution_count": null,
   "metadata": {},
   "outputs": [],
   "source": [
    "#model\n",
    "import models\n",
    "importlib.reload(models)\n",
    "\n",
    "model=models.CNN_MLP()\n",
    "out=model(image)"
   ]
  }
 ],
 "metadata": {
  "kernelspec": {
   "display_name": "Python 3.10.6 ('DLenv')",
   "language": "python",
   "name": "python3"
  },
  "language_info": {
   "name": "python",
   "version": "3.10.6"
  },
  "orig_nbformat": 4,
  "vscode": {
   "interpreter": {
    "hash": "09911b70b107ce1f1a26d3d965c92acabc3f780c628bdef8c12485070fed524b"
   }
  }
 },
 "nbformat": 4,
 "nbformat_minor": 2
}
