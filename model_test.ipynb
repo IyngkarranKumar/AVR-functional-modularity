{
 "cells": [
  {
   "cell_type": "code",
   "execution_count": null,
   "metadata": {},
   "outputs": [],
   "source": [
    "import torch\n",
    "import numpy as np"
   ]
  },
  {
   "cell_type": "code",
   "execution_count": null,
   "metadata": {},
   "outputs": [],
   "source": [
    "names = [\"SCL\",\"DCNet\",\"CoPINet\",\"SRAN\"]\n",
    "\n",
    "\n",
    "path = "
   ]
  }
 ],
 "metadata": {
  "kernelspec": {
   "display_name": "Python 2.7.18 ('AVR')",
   "language": "python",
   "name": "python3"
  },
  "language_info": {
   "name": "python",
   "version": "2.7.18"
  },
  "orig_nbformat": 4,
  "vscode": {
   "interpreter": {
    "hash": "f2c25139f1acd4d98050217451a89861508c4dcd8e484e8fe5b265dbe9e20de6"
   }
  }
 },
 "nbformat": 4,
 "nbformat_minor": 2
}
