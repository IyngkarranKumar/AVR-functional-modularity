{
 "cells": [
  {
   "cell_type": "markdown",
   "id": "42b58a7a-126e-4f51-b7f7-717cacc649d1",
   "metadata": {},
   "source": [
    "## Visualising convnets\n"
   ]
  },
  {
   "cell_type": "code",
   "execution_count": 2,
   "id": "62cb1d32-64ea-4eb3-ba8b-e596913ada40",
   "metadata": {},
   "outputs": [],
   "source": [
    "import numpy\n",
    "import matplotlib.pyplot as plt\n",
    "\n",
    "import torch\n",
    "import torchvision"
   ]
  },
  {
   "cell_type": "code",
   "execution_count": 3,
   "id": "c8d6221a-7922-4e9b-b7e9-629a582e3731",
   "metadata": {},
   "outputs": [],
   "source": [
    "weights = 'VGG16_Weights.DEFAULT'\n",
    "model = torchvision.models.vgg16(weights=weights)"
   ]
  },
  {
   "cell_type": "code",
   "execution_count": 4,
   "id": "80037f47-8835-49e5-b0be-4bc2922f49ca",
   "metadata": {},
   "outputs": [],
   "source": [
    "#data\n",
    "\n",
    "img_size = (128,128)"
   ]
  },
  {
   "cell_type": "code",
   "execution_count": null,
   "id": "3dc7818b-7581-4047-b59c-243610c9b93e",
   "metadata": {},
   "outputs": [],
   "source": [
    "#we start with visualisation of top-k dataset examples\n",
    "\n",
    "def find_top_k():\n",
    "    pass"
   ]
  }
 ],
 "metadata": {
  "kernelspec": {
   "display_name": "Python [conda env:DLenv]",
   "language": "python",
   "name": "conda-env-DLenv-py"
  },
  "language_info": {
   "codemirror_mode": {
    "name": "ipython",
    "version": 3
   },
   "file_extension": ".py",
   "mimetype": "text/x-python",
   "name": "python",
   "nbconvert_exporter": "python",
   "pygments_lexer": "ipython3",
   "version": "3.10.6"
  }
 },
 "nbformat": 4,
 "nbformat_minor": 5
}
