{
 "cells": [
  {
   "cell_type": "markdown",
   "metadata": {},
   "source": [
    "#### ipynb for SCL analysis"
   ]
  },
  {
   "cell_type": "code",
   "execution_count": null,
   "metadata": {},
   "outputs": [],
   "source": [
    "#model accuracy\n",
    "\n",
    "from data import IRAVENDataModule\n",
    "from models.SCL_model import SCL,SCLTrainingWrapper,SCL_preprocess\n",
    "\n",
    "\n",
    "model_ckpt='/Users/iyngkarrankumar/Documents/AI/AVR-functional-modularity/model_ckpts/pretrain_SCL/SCL_pretrain_80.ckpt'\n",
    "batch_size=8\n",
    "split=(90,10,0)\n",
    "\n",
    "\n",
    "#NOT task dataset\n",
    "path_='datasets/originals_masking'\n",
    "data_module_=IRAVENDataModule(batch_size=batch_size,split=split)\n",
    "data_module_.prepare_data()\n",
    "data_module_.setup(root_dir=path_)\n",
    "test_dataloader_not_task=data_module_.test_dataloader()\n",
    "\n",
    "\n",
    "with open (load_path,'rb') as f:\n",
    "        load_dict=pickle.load(f)\n",
    "\n",
    "    kwargs=load_dict['kwargs']\n",
    "    SCL_model=SCLTrainingWrapper(SCL(**kwargs))\n",
    "    optimiser=torch.optim.Adam(SCL_model.parameters(),lr=lr)\n",
    "    \n",
    "    SCL_model.load_state_dict(load_dict['model state dict'])"
   ]
  }
 ],
 "metadata": {
  "kernelspec": {
   "display_name": "Python 3.10.9 ('DLEnv2')",
   "language": "python",
   "name": "python3"
  },
  "language_info": {
   "name": "python",
   "version": "3.10.9"
  },
  "orig_nbformat": 4,
  "vscode": {
   "interpreter": {
    "hash": "777c4db5e742970643b3caf0f2444cc887f9a8bc662ed8f696c61dc9ad37cda3"
   }
  }
 },
 "nbformat": 4,
 "nbformat_minor": 2
}
